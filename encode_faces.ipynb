{
 "cells": [
  {
   "cell_type": "code",
   "execution_count": 1,
   "id": "82737569",
   "metadata": {},
   "outputs": [],
   "source": [
    "# import the necessary packages\n",
    "from imutils import paths\n",
    "import face_recognition\n",
    "import pickle\n",
    "import cv2\n",
    "import os"
   ]
  },
  {
   "cell_type": "code",
   "execution_count": 2,
   "id": "6a7267c2",
   "metadata": {},
   "outputs": [
    {
     "name": "stdout",
     "output_type": "stream",
     "text": [
      "['1599844718_588_notitle.jpg', '1599859973_889_Choose-Your-Favourite-Virat-Kohli-Hairstyle-50-Of-Virats.jpg', 'Cricket-images.jpg', 'download (1).jpg', 'download (10).jpg', 'download (11).jpg', 'download (12).jpg', 'download (13).jpg', 'download (14).jpg', 'download (15).jpg']\n"
     ]
    }
   ],
   "source": [
    "path=r\"F:\\pic\"\n",
    "encoding=r\"F:\\encodings\"\n",
    "os.chdir(path)\n",
    "flowers=[]\n",
    "#iterating in folder\n",
    "with os.scandir(path) as files:\n",
    "    for file in files:\n",
    "        if file.name.endswith('.jpg'):\n",
    "            flowers.append(file.name)\n",
    "print(flowers[:10])"
   ]
  },
  {
   "cell_type": "code",
   "execution_count": 3,
   "id": "00940015",
   "metadata": {},
   "outputs": [
    {
     "name": "stdout",
     "output_type": "stream",
     "text": [
      "[INFO] quantifying faces...\n",
      "['F:\\\\pic\\\\1599844718_588_notitle.jpg', 'F:\\\\pic\\\\1599859973_889_Choose-Your-Favourite-Virat-Kohli-Hairstyle-50-Of-Virats.jpg', 'F:\\\\pic\\\\Cricket-images.jpg', 'F:\\\\pic\\\\download (1).jpg', 'F:\\\\pic\\\\download (10).jpg', 'F:\\\\pic\\\\download (11).jpg', 'F:\\\\pic\\\\download (12).jpg', 'F:\\\\pic\\\\download (13).jpg', 'F:\\\\pic\\\\download (14).jpg', 'F:\\\\pic\\\\download (15).jpg', 'F:\\\\pic\\\\download (16).jpg', 'F:\\\\pic\\\\download (17).jpg', 'F:\\\\pic\\\\download (18).jpg', 'F:\\\\pic\\\\download (19).jpg', 'F:\\\\pic\\\\download (2).jpg', 'F:\\\\pic\\\\download (20).jpg', 'F:\\\\pic\\\\download (21).jpg', 'F:\\\\pic\\\\download (22).jpg', 'F:\\\\pic\\\\download (23).jpg', 'F:\\\\pic\\\\download (24).jpg', 'F:\\\\pic\\\\download (25).jpg', 'F:\\\\pic\\\\download (26).jpg', 'F:\\\\pic\\\\download (27).jpg', 'F:\\\\pic\\\\download (28).jpg', 'F:\\\\pic\\\\download (29).jpg', 'F:\\\\pic\\\\download (3).jpg', 'F:\\\\pic\\\\download (30).jpg', 'F:\\\\pic\\\\download (31).jpg', 'F:\\\\pic\\\\download (32).jpg', 'F:\\\\pic\\\\download (33).jpg', 'F:\\\\pic\\\\download (34).jpg', 'F:\\\\pic\\\\download (35).jpg', 'F:\\\\pic\\\\download (36).jpg', 'F:\\\\pic\\\\download (37).jpg', 'F:\\\\pic\\\\download (38).jpg', 'F:\\\\pic\\\\download (39).jpg', 'F:\\\\pic\\\\download (4).jpg', 'F:\\\\pic\\\\download (40).jpg', 'F:\\\\pic\\\\download (41).jpg', 'F:\\\\pic\\\\download (42).jpg', 'F:\\\\pic\\\\download (43).jpg', 'F:\\\\pic\\\\download (44).jpg', 'F:\\\\pic\\\\download (45).jpg', 'F:\\\\pic\\\\download (46).jpg', 'F:\\\\pic\\\\download (47).jpg', 'F:\\\\pic\\\\download (48).jpg', 'F:\\\\pic\\\\download (49).jpg', 'F:\\\\pic\\\\download (5).jpg', 'F:\\\\pic\\\\download (50).jpg', 'F:\\\\pic\\\\download (51).jpg', 'F:\\\\pic\\\\download (52).jpg', 'F:\\\\pic\\\\download (53).jpg', 'F:\\\\pic\\\\download (54).jpg', 'F:\\\\pic\\\\download (55).jpg', 'F:\\\\pic\\\\download (56).jpg', 'F:\\\\pic\\\\download (57).jpg', 'F:\\\\pic\\\\download (58).jpg', 'F:\\\\pic\\\\download (59).jpg', 'F:\\\\pic\\\\download (6).jpg', 'F:\\\\pic\\\\download (60).jpg', 'F:\\\\pic\\\\download (61).jpg', 'F:\\\\pic\\\\download (62).jpg', 'F:\\\\pic\\\\download (63).jpg', 'F:\\\\pic\\\\download (64).jpg', 'F:\\\\pic\\\\download (65).jpg', 'F:\\\\pic\\\\download (7).jpg', 'F:\\\\pic\\\\download (8).jpg', 'F:\\\\pic\\\\download (9).jpg', 'F:\\\\pic\\\\download.jpg', 'F:\\\\pic\\\\Four-changes-Virat-Kohli-brought-in-after-taking-charge-in.jpg', 'F:\\\\pic\\\\images (1).jpg', 'F:\\\\pic\\\\images (10).jpg', 'F:\\\\pic\\\\images (11).jpg', 'F:\\\\pic\\\\images (12).jpg', 'F:\\\\pic\\\\images (13).jpg', 'F:\\\\pic\\\\images (14).jpg', 'F:\\\\pic\\\\images (15).jpg', 'F:\\\\pic\\\\images (16).jpg', 'F:\\\\pic\\\\images (17).jpg', 'F:\\\\pic\\\\images (18).jpg', 'F:\\\\pic\\\\images (19).jpg', 'F:\\\\pic\\\\images (2).jpg', 'F:\\\\pic\\\\images (20).jpg', 'F:\\\\pic\\\\images (21).jpg', 'F:\\\\pic\\\\images (22).jpg', 'F:\\\\pic\\\\images (23).jpg', 'F:\\\\pic\\\\images (24).jpg', 'F:\\\\pic\\\\images (25).jpg', 'F:\\\\pic\\\\images (26).jpg', 'F:\\\\pic\\\\images (27).jpg', 'F:\\\\pic\\\\images (28).jpg', 'F:\\\\pic\\\\images (29).jpg', 'F:\\\\pic\\\\images (3).jpg', 'F:\\\\pic\\\\images (30).jpg', 'F:\\\\pic\\\\images (31).jpg', 'F:\\\\pic\\\\images (32).jpg', 'F:\\\\pic\\\\images (33).jpg', 'F:\\\\pic\\\\images (34).jpg', 'F:\\\\pic\\\\images (35).jpg', 'F:\\\\pic\\\\images (36).jpg', 'F:\\\\pic\\\\images (37).jpg', 'F:\\\\pic\\\\images (38).jpg', 'F:\\\\pic\\\\images (39).jpg', 'F:\\\\pic\\\\images (4).jpg', 'F:\\\\pic\\\\images (5).jpg', 'F:\\\\pic\\\\images (6).jpg', 'F:\\\\pic\\\\images (7).jpg', 'F:\\\\pic\\\\images (8).jpg', 'F:\\\\pic\\\\images (9).jpg', 'F:\\\\pic\\\\images.jpg', 'F:\\\\pic\\\\India-celebrate-3-0-series-win-against-New-Zealand-Cricket-Photos.jpg', 'F:\\\\pic\\\\Top-10-Virat-Kohli-Fashion-Photos-StyleRug.jpg', 'F:\\\\pic\\\\Virat-Kohli-4k-Wallpapers-hdqwallscom.png', 'F:\\\\pic\\\\Virat-Kohli-of-India-celebrates-after-reaching-his-century-during.jpg', 'F:\\\\pic\\\\Virat-Kohli-Success-story-of-The-king-of-Cricket.jpg', 'F:\\\\pic\\\\Virat-Kohli-Wallpaper-Full-HD-Image-Pics-Download-image.jpg', 'F:\\\\pic\\\\Virat-Kohli.jpg', 'F:\\\\pic\\\\Virat-Kohlis-Fitness-Routine-And-Full-Diet-Plan-And-This.jpg', 'F:\\\\pic\\\\YOUR-FAVOURITE-CELEBRITIES-STYLES-AT-BEST-PRICE.jpg']\n"
     ]
    }
   ],
   "source": [
    "print(\"[INFO] quantifying faces...\")\n",
    "imagePaths = list(paths.list_images(path))\n",
    "print(imagePaths)\n",
    "data = []"
   ]
  },
  {
   "cell_type": "code",
   "execution_count": null,
   "id": "44a7c47f",
   "metadata": {},
   "outputs": [
    {
     "name": "stdout",
     "output_type": "stream",
     "text": [
      "[INFO] processing image 1/119\n",
      "[INFO] processing image 2/119\n"
     ]
    }
   ],
   "source": [
    "# loop over the image paths\n",
    "for (i, imagePath) in enumerate(imagePaths):\n",
    "\t# load the input image and convert it from RGB (OpenCV ordering)\n",
    "\t# to dlib ordering (RGB)\n",
    "\tprint(\"[INFO] processing image {}/{}\".format(i + 1,\n",
    "\t\tlen(imagePaths)))\n",
    "# \tprint(imagePath)\n",
    "\timage = cv2.imread(imagePath)\n",
    "\trgb = cv2.cvtColor(image, cv2.COLOR_BGR2RGB)\n",
    " \t# detect the (x, y)-coordinates of the bounding boxes\n",
    "\t# corresponding to each face in the input image\n",
    "\tboxes = face_recognition.face_locations(rgb, number_of_times_to_upsample=1,model=\"cnn\")\n",
    "\t# compute the facial embedding for the face\n",
    "\tencodings = face_recognition.face_encodings(rgb, boxes)\n",
    "\t# build a dictionary of the image path, bounding box location,\n",
    "\t# and facial encodings for the current image\n",
    "\td = [{\"imagePath\": imagePath, \"loc\": box, \"encoding\": enc}\n",
    "\t\tfor (box, enc) in zip(boxes, encodings)]\n",
    "\tdata.extend(d)"
   ]
  },
  {
   "cell_type": "code",
   "execution_count": null,
   "id": "21675509",
   "metadata": {
    "scrolled": false
   },
   "outputs": [],
   "source": [
    "print(data)"
   ]
  },
  {
   "cell_type": "code",
   "execution_count": null,
   "id": "3677914d",
   "metadata": {},
   "outputs": [],
   "source": [
    "# dump the facial encodings data to disk\n",
    "print(\"[INFO] serializing encodings...\")\n",
    "f = open(encoding+'\\encodings.pickle', \"wb\")\n",
    "f.write(pickle.dumps(data))\n",
    "f.close()"
   ]
  },
  {
   "cell_type": "code",
   "execution_count": null,
   "id": "4f5e7b6e",
   "metadata": {},
   "outputs": [],
   "source": []
  }
 ],
 "metadata": {
  "kernelspec": {
   "display_name": "Python 3 (ipykernel)",
   "language": "python",
   "name": "python3"
  },
  "language_info": {
   "codemirror_mode": {
    "name": "ipython",
    "version": 3
   },
   "file_extension": ".py",
   "mimetype": "text/x-python",
   "name": "python",
   "nbconvert_exporter": "python",
   "pygments_lexer": "ipython3",
   "version": "3.9.6"
  }
 },
 "nbformat": 4,
 "nbformat_minor": 5
}
