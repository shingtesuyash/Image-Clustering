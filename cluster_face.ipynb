{
 "cells": [
  {
   "cell_type": "code",
   "execution_count": 1,
   "id": "d1507a37",
   "metadata": {},
   "outputs": [],
   "source": [
    "# import the necessary packages\n",
    "from sklearn.cluster import DBSCAN\n",
    "from imutils import build_montages\n",
    "import numpy as np\n",
    "import pickle\n",
    "import cv2\n",
    "import os"
   ]
  },
  {
   "cell_type": "code",
   "execution_count": 2,
   "id": "578acf3b",
   "metadata": {},
   "outputs": [
    {
     "name": "stdout",
     "output_type": "stream",
     "text": [
      "[INFO] loading encodings...\n",
      "[INFO] clustering...\n",
      "label ids: [-1  0  1  2  3  4  5  6  7  8]\n",
      "[ 0  0  0  1  2 -1  2  3  3  3  3  3  3  3  3  4  4  4  4  4  4  4  8  1\n",
      "  8 -1 -1 -1  8  8  4  5  5  5  5  6 -1  6  6  6  6  6  6  6  7  7  7  7\n",
      "  7  7  2  2  0  1  3  3  3 -1  4  4  1  4  8  4  4  5  5 -1  6  6  6 -1\n",
      "  7  7  7  7  5  1  2  2  2  2  1  0  0  0  0  0  0  0]\n",
      "[INFO] # unique faces: 9\n"
     ]
    }
   ],
   "source": [
    "encoding=r\"F:\\encodings\\encodings.pickle\"\n",
    "saved=r\"D:\\Desktop\\saved\"\n",
    "# load the serialized face encodings + bounding box locations from\n",
    "# disk, then extract the set of encodings to so we can cluster on\n",
    "# them\n",
    "print(\"[INFO] loading encodings...\")\n",
    "data = pickle.loads(open(encoding, \"rb\").read())\n",
    "data = np.array(data)\n",
    "encodings = [d[\"encoding\"] for d in data]\n",
    "# cluster the embeddings\n",
    "print(\"[INFO] clustering...\")\n",
    "clt = DBSCAN(metric=\"euclidean\", n_jobs=-1)\n",
    "clt.fit(encodings)\n",
    "\n",
    "# determine the total number of unique faces found in the dataset\n",
    "labelIDs = np.unique(clt.labels_)\n",
    "print(\"label ids:\",labelIDs)\n",
    "print(clt.labels_)\n",
    "numUniqueFaces = len(np.where(labelIDs > -1)[0])\n",
    "print(\"[INFO] # unique faces: {}\".format(numUniqueFaces))\n"
   ]
  },
  {
   "cell_type": "code",
   "execution_count": 3,
   "id": "72c7343e",
   "metadata": {},
   "outputs": [
    {
     "name": "stdout",
     "output_type": "stream",
     "text": [
      "[INFO] faces for face ID: -1\n",
      "D:\\Desktop\\saved\\1\n",
      "[INFO] faces for face ID: 0\n",
      "D:\\Desktop\\saved\\2\n",
      "[INFO] faces for face ID: 1\n",
      "D:\\Desktop\\saved\\3\n",
      "[INFO] faces for face ID: 2\n",
      "D:\\Desktop\\saved\\4\n",
      "[INFO] faces for face ID: 3\n",
      "D:\\Desktop\\saved\\5\n",
      "[INFO] faces for face ID: 4\n",
      "D:\\Desktop\\saved\\6\n",
      "[INFO] faces for face ID: 5\n",
      "D:\\Desktop\\saved\\7\n",
      "[INFO] faces for face ID: 6\n",
      "D:\\Desktop\\saved\\8\n",
      "[INFO] faces for face ID: 7\n",
      "D:\\Desktop\\saved\\9\n",
      "[INFO] faces for face ID: 8\n",
      "D:\\Desktop\\saved\\10\n"
     ]
    }
   ],
   "source": [
    "# loop over the unique face integers\n",
    "b=1\n",
    "\n",
    "for labelID in labelIDs:\n",
    "    if labelID == -1:\n",
    "        continue\n",
    "    else:\n",
    "        \n",
    "        # find all indexes into the `data` array that belong to the\n",
    "        # current label ID, then randomly sample a maximum of 25 indexes\n",
    "        # from the set\n",
    "        print(\"[INFO] faces for face ID: {}\".format(labelID))\n",
    "        idxs = np.where(clt.labels_ == labelID)[0]\n",
    "        \n",
    "\n",
    "        # initialize the list of faces to include in the montage\n",
    "        images = []\n",
    "#         images.append(face)\n",
    "        t=saved;\n",
    "        temp= os.path.join(t,f\"{b}\")\n",
    "        print(temp)\n",
    "        os.mkdir(temp)\n",
    "        b=b+1\n",
    "            # loop over the sampled indexes\n",
    "        \n",
    "        c=0\n",
    "        # loop over the sampled indexes\n",
    "        for i in idxs:\n",
    "      \n",
    "        \n",
    "      \n",
    "            # load the input image and extract the face ROI\n",
    "            image = cv2.imread(data[i][\"imagePath\"])\n",
    "            c=c+1\n",
    "            saved=temp+\"/\"+f\"{c}.png\"\n",
    "            cv2.imwrite(saved, image)\n",
    "            images.append(image)\n",
    "    #     \tcreate a montage using 96x96 \"tiles\" with 5 rows and 5 columns\n",
    "     \n",
    "        saved=t;\n",
    "        montage = build_montages(images, (96, 96), (10, 5))[0]\n",
    "        \n",
    "        # show the output montage\n",
    "        title = \"Face ID #{}\".format(labelID)\n",
    "        title = \"Unknown Faces\" if labelID == -1 else title\n",
    "        cv2.imshow(title, montage)\n",
    "        cv2.waitKey(0)"
   ]
  },
  {
   "cell_type": "code",
   "execution_count": null,
   "id": "05a2888e",
   "metadata": {},
   "outputs": [],
   "source": []
  }
 ],
 "metadata": {
  "kernelspec": {
   "display_name": "Python 3 (ipykernel)",
   "language": "python",
   "name": "python3"
  },
  "language_info": {
   "codemirror_mode": {
    "name": "ipython",
    "version": 3
   },
   "file_extension": ".py",
   "mimetype": "text/x-python",
   "name": "python",
   "nbconvert_exporter": "python",
   "pygments_lexer": "ipython3",
   "version": "3.9.6"
  }
 },
 "nbformat": 4,
 "nbformat_minor": 5
}
